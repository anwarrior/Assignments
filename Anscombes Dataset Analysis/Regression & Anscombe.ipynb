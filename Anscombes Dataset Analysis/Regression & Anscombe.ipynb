{
  "nbformat": 4,
  "nbformat_minor": 0,
  "metadata": {
    "colab": {
      "name": "Warmup Excercise (20060641004).ipynb",
      "provenance": [],
      "collapsed_sections": []
    },
    "kernelspec": {
      "name": "python3",
      "display_name": "Python 3"
    },
    "language_info": {
      "name": "python"
    }
  },
  "cells": [
    {
      "cell_type": "markdown",
      "metadata": {
        "id": "T9rwg-CCIdoO"
      },
      "source": [
        "#SLDM: Warming Up Assignment\n",
        "\n",
        "\n",
        "Anupam Chaturvedi \n",
        "\n",
        "PRN: 20060641004\n",
        "\n"
      ]
    },
    {
      "cell_type": "code",
      "metadata": {
        "id": "0hs3iwJ743S2"
      },
      "source": [
        "#importing required libraries\n",
        "import pandas as pd\n",
        "import numpy as np\n",
        "import statsmodels.api as sm\n",
        "from sklearn.metrics import mean_squared_error\n",
        "from math import sqrt\n",
        "from scipy.stats import shapiro\n",
        "from scipy.stats import pearsonr\n",
        "import matplotlib.pyplot as plt\n",
        "import seaborn as sns\n",
        "from yellowbrick.regressor import ResidualsPlot\n",
        "\n"
      ],
      "execution_count": 92,
      "outputs": []
    },
    {
      "cell_type": "markdown",
      "metadata": {
        "id": "VsxkIqefPRLP"
      },
      "source": [
        "# Question 1a\n",
        "Consider the data given in file dat1.csv . Here y is a function of x1 and x2.\n",
        "Write out the form of the linear model. What are the coefficients , rvs and\n",
        "constants?\n",
        "\n",
        "#Answer\n",
        "*   Linear Model: Y = Bo + B1X1 + B2X2\n",
        "\n",
        "\n",
        "*   Coefficients are: B1 & B2\n",
        "*   Constant is Bo (Y intercept)\n",
        "\n",
        "\n",
        "*   Independent Variables: X1 & X2\n",
        "\n",
        "*   Dependent Variable: Y"
      ]
    },
    {
      "cell_type": "code",
      "metadata": {
        "id": "Qc9i94zm4i51"
      },
      "source": [
        "#Importing Data Set\n",
        "df = pd.read_csv(\"/content/dat1.csv - dat1.csv.csv\").drop(\"Unnamed: 0\", axis = 1)"
      ],
      "execution_count": 93,
      "outputs": []
    },
    {
      "cell_type": "markdown",
      "metadata": {
        "id": "ePbnBQgjPiZn"
      },
      "source": [
        "# Question 1b\n",
        "What is the correlation between x1 and x2? Create a scatterplot\n"
      ]
    },
    {
      "cell_type": "code",
      "metadata": {
        "colab": {
          "base_uri": "https://localhost:8080/",
          "height": 447
        },
        "id": "asH0Yh0uPrce",
        "outputId": "ca47fe8e-8a04-48d5-da86-813d359a2121"
      },
      "source": [
        "#Droping y column to make process simple\n",
        "df_cor = df.drop(\"y\",axis = 1)\n",
        "print(df_cor.corr())\n",
        "\n",
        "#Scatterplot\n",
        "plt.scatter(df[\"x1\"], df[\"x2\"])\n",
        "plt.xlabel(\"X1\")\n",
        "plt.ylabel(\"X2\")\n",
        "plt.title(\"Correlation Between X1 & X2\")\n",
        "plt.show()\n",
        "print(\"In above obtained scatter plot we can observe that there is high positive correaltion between X1 & X2\")"
      ],
      "execution_count": 94,
      "outputs": [
        {
          "output_type": "stream",
          "text": [
            "          x1        x2\n",
            "x1  1.000000  0.835846\n",
            "x2  0.835846  1.000000\n"
          ],
          "name": "stdout"
        },
        {
          "output_type": "display_data",
          "data": {
            "image/png": "[encoded data removed]",
            "text/plain": [
              "<Figure size 576x396 with 1 Axes>"
            ]
          },
          "metadata": {
            "tags": []
          }
        },
        {
          "output_type": "stream",
          "text": [
            "In above obtained scatter plot we can observe that there is high positive correaltion between X1 & X2\n"
          ],
          "name": "stdout"
        }
      ]
    },
    {
      "cell_type": "markdown",
      "metadata": {
        "id": "ibta_8cGQJ-3"
      },
      "source": [
        "#Question 1b : COMMENT\n",
        "\n",
        "\n",
        "\n",
        "*   In above obtained scatter plot we can observe that there is high positive correaltion between X1 & X2\n",
        "\n",
        "\n",
        "\n",
        "\n",
        "\n",
        "\n",
        "\n"
      ]
    },
    {
      "cell_type": "markdown",
      "metadata": {
        "id": "zDPVYAZNQ63G"
      },
      "source": [
        "#Question 1c\n",
        "Using this data, fit a least squares regression to predict y using x1 and x2.\n",
        "Describe the results obtained. Interpret ˆ β0, ˆ β1, and ˆ β2 ( these are the estimated coefficients). Test the\n",
        "null hypothesis H0 : β1 = 0 and the hypothesis H0 : β2 = 0\n",
        "\n",
        "\n",
        "#Model: Y = Bo + B1X1 + B2X2"
      ]
    },
    {
      "cell_type": "code",
      "metadata": {
        "colab": {
          "base_uri": "https://localhost:8080/"
        },
        "id": "rdNatiwH882A",
        "outputId": "a21e27e7-d9b7-41e9-9dc8-a2cb897ab234"
      },
      "source": [
        "\n",
        "X_all = df[[\"x1\",\"x2\"]]  #Independent Variables\n",
        "Y = df[\"y\"]  #Dependent Variable\n",
        "X_all = sm.add_constant(X_all )  #Adding column of ones\n",
        "\n",
        "#LSR Model\n",
        "model = sm.OLS(Y,X_all).fit()\n",
        "ms = model.summary()       #model summary\n",
        "print(ms)\n",
        "\n",
        "\n",
        "#---* Comment on Otained Output*---\n",
        "#print(\"Comment\")\n",
        "#print(\"From Obtained Output we interpret that\")\n",
        "#print(\"Y intercept = \",model.params[0],\" which is obtained when X1 & X2 in are taken 0\" )\n",
        "#print(\"B1 = \",model.params[1],\" which means when X1 is increased by one unit, then predicted y increases by b1 (\",model.params[1],\") units\")\n",
        "#print(\"B2 = \",model.params[2],\" which means when X2 is increased by one unit, then predicted y increases by b2 (\",model.params[2],\") units\")\n",
        "#print(\"For Ho:B1=0 - We reject null hypothesis which implie B1 is not equal to 0, so we conclude that b1 is statistically significant at significance level 0.05\")\n",
        "#print(\"For Ho:B2=0 - We do not reject null hypothesis which implie B2 is equal to 0, so we conclude that b2 is statistically insignificant at significance level 0.05\")"
      ],
      "execution_count": 95,
      "outputs": [
        {
          "output_type": "stream",
          "text": [
            "                            OLS Regression Results                            \n",
            "==============================================================================\n",
            "Dep. Variable:                      y   R-squared:                       0.270\n",
            "Model:                            OLS   Adj. R-squared:                  0.254\n",
            "Method:                 Least Squares   F-statistic:                     17.89\n",
            "Date:                Thu, 29 Jul 2021   Prob (F-statistic):           2.43e-07\n",
            "Time:                        17:03:50   Log-Likelihood:                -154.28\n",
            "No. Observations:                 100   AIC:                             314.6\n",
            "Df Residuals:                      97   BIC:                             322.4\n",
            "Df Model:                           2                                         \n",
            "Covariance Type:            nonrobust                                         \n",
            "==============================================================================\n",
            "                 coef    std err          t      P>|t|      [0.025      0.975]\n",
            "------------------------------------------------------------------------------\n",
            "const          1.8452      0.217      8.511      0.000       1.415       2.275\n",
            "x1             1.6689      0.698      2.390      0.019       0.283       3.055\n",
            "x2             1.2386      1.223      1.013      0.314      -1.188       3.665\n",
            "==============================================================================\n",
            "Omnibus:                        0.386   Durbin-Watson:                   2.300\n",
            "Prob(Omnibus):                  0.824   Jarque-Bera (JB):                0.522\n",
            "Skew:                          -0.128   Prob(JB):                        0.770\n",
            "Kurtosis:                       2.756   Cond. No.                         13.6\n",
            "==============================================================================\n",
            "\n",
            "Warnings:\n",
            "[1] Standard Errors assume that the covariance matrix of the errors is correctly specified.\n"
          ],
          "name": "stdout"
        }
      ]
    },
    {
      "cell_type": "markdown",
      "metadata": {
        "id": "uuqFwpfNRODc"
      },
      "source": [
        "\n",
        "\n",
        "#Question (c): Comment\n",
        "\n",
        "*   Y intercept =  1.8452180426958014  which is obtained when X1 & X2 in are taken 0\n",
        "*   B1 =  1.6689217269258907  which means when X1 is increased by one unit, then predicted y increases by b1 ( 1.6689217269258907 ) units\n",
        "*   B2 =  1.2385798805666774  which means when X2 is increased by one unit, then predicted y increases by b2 ( 1.2385798805666774 ) units\n",
        "*   For Ho:B1=0 - We reject null hypothesis which implie B1 is not equal to 0, so we conclude that b1 is statistically significant at significance level 0.05\n",
        "*   For Ho:B2=0 - We do not reject null hypothesis which implie B2 is equal to 0, so we conclude that b2 is statistically insignificant at significance level 0.05\n",
        "\n",
        "\n",
        "\n",
        "\n",
        "\n",
        "\n",
        "\n",
        "\n"
      ]
    },
    {
      "cell_type": "markdown",
      "metadata": {
        "id": "dzDXfzoKTAWo"
      },
      "source": [
        "#Question(d)\n",
        "Now fit a least squares regression to predict y using only x1.\n",
        "Comment on your results. Can you reject the null hypothesis\n",
        "H0 : β1 = 0?\n",
        "\n",
        "#Model: Y = Bo + B1X1"
      ]
    },
    {
      "cell_type": "code",
      "metadata": {
        "colab": {
          "base_uri": "https://localhost:8080/"
        },
        "id": "5MViYgf8LF6r",
        "outputId": "55e98fef-6c41-4369-ede2-87f824b294fa"
      },
      "source": [
        "X1 = df[\"x1\"]  #Independent Variables\n",
        "Y = df[\"y\"]  #Dependent Variable\n",
        "X1 = sm.add_constant(X1)  #Adding column of ones\n",
        "\n",
        "#LSR Model\n",
        "model_x1 = sm.OLS(Y,X1).fit()\n",
        "ms_x1 = model_x1.summary()       #model summary\n",
        "print(ms_x1)\n",
        "\n",
        "#rint(\"Comment\")\n",
        "#print(\"From Obtained Output we interpret that\")\n",
        "#print(\"Y intercept = \",model_x1.params[0],\" which is obtained when X1 & X2 in are taken 0\" )\n",
        "#print(\"B1 = \",model_x1.params[1],\" which means when X1 is increased by one unit, then predicted y increases by b1 (\",model_x1.params[1],\") units\")\n",
        "#print(\"For Ho:B1=0 - Since pvalue = 0 which is less than 0.05 LOS, we reject null hypothesis which implie B1 is not equal to 0, so we conclude that b1 is statistically significant at significance level 0.05\")"
      ],
      "execution_count": 96,
      "outputs": [
        {
          "output_type": "stream",
          "text": [
            "                            OLS Regression Results                            \n",
            "==============================================================================\n",
            "Dep. Variable:                      y   R-squared:                       0.262\n",
            "Model:                            OLS   Adj. R-squared:                  0.254\n",
            "Method:                 Least Squares   F-statistic:                     34.75\n",
            "Date:                Thu, 29 Jul 2021   Prob (F-statistic):           5.32e-08\n",
            "Time:                        17:03:54   Log-Likelihood:                -154.80\n",
            "No. Observations:                 100   AIC:                             313.6\n",
            "Df Residuals:                      98   BIC:                             318.8\n",
            "Df Model:                           1                                         \n",
            "Covariance Type:            nonrobust                                         \n",
            "==============================================================================\n",
            "                 coef    std err          t      P>|t|      [0.025      0.975]\n",
            "------------------------------------------------------------------------------\n",
            "const          1.8748      0.215      8.726      0.000       1.448       2.301\n",
            "x1             2.2603      0.383      5.895      0.000       1.499       3.021\n",
            "==============================================================================\n",
            "Omnibus:                        0.363   Durbin-Watson:                   2.353\n",
            "Prob(Omnibus):                  0.834   Jarque-Bera (JB):                0.487\n",
            "Skew:                          -0.129   Prob(JB):                        0.784\n",
            "Kurtosis:                       2.775   Cond. No.                         4.14\n",
            "==============================================================================\n",
            "\n",
            "Warnings:\n",
            "[1] Standard Errors assume that the covariance matrix of the errors is correctly specified.\n"
          ],
          "name": "stdout"
        }
      ]
    },
    {
      "cell_type": "markdown",
      "metadata": {
        "id": "OqkmlxN0TRiv"
      },
      "source": [
        "#Question (d): Comment\n",
        "\n",
        "*   Y intercept =  1.8747511082170756  which is obtained when X1 & X2 in are taken 0\n",
        "\n",
        "*   B1 =  2.260307124495236  which means when X1 is increased by one unit, then predicted y increases by b1 ( 2.260307124495236 ) units\n",
        "*   For Ho:B1=0 - Since pvalue =  5.31773601121059e-08 We reject null hypothesis which implie B1 is not equal to 0, so we conclude that b1 is statistically significant at significance level 0.05\n",
        "\n"
      ]
    },
    {
      "cell_type": "markdown",
      "metadata": {
        "id": "qEJ09L3xTry3"
      },
      "source": [
        "#Question (e)\n",
        "Now fit a least squares regression to predict y using only x2.\n",
        "Comment on your results. Can you reject the null hypothesis H0 : β2 = 0?\n",
        "\n",
        "#Model: Y = Bo + B2X2"
      ]
    },
    {
      "cell_type": "code",
      "metadata": {
        "colab": {
          "base_uri": "https://localhost:8080/"
        },
        "id": "bx_cVN35Na-0",
        "outputId": "f748996c-9988-41ec-dbe5-9995f2a40396"
      },
      "source": [
        "X2 = df[\"x2\"]  #Independent Variables\n",
        "Y = df[\"y\"]  #Dependent Variable\n",
        "X2 = sm.add_constant(X2)  #Adding column of ones\n",
        "\n",
        "#LSR Model\n",
        "model_x2 = sm.OLS(Y,X2).fit()\n",
        "ms_x2 = model_x2.summary()       #model summary\n",
        "print(ms_x2)\n",
        "\n",
        "\n",
        "#print(\"Comment\")\n",
        "#print(\"From Obtained Output we interpret that\")\n",
        "#print(\"Y intercept = \",model_x2.params[0],\" which is obtained when X1 & X2 in are taken 0\" )\n",
        "#print(\"B1 = \",model_x2.params[1],\" which means when X1 is increased by one unit, then predicted y increases by b1 (\",model_x2.params[1],\") units\")\n",
        "#print(\"For Ho:B1=0 - Since pvalue = 0 which is less than 0.05 LOS, we reject null hypothesis which implie B1 is not equal to 0, so we conclude that b1 is statistically significant at significance level 0.05\")\n"
      ],
      "execution_count": 97,
      "outputs": [
        {
          "output_type": "stream",
          "text": [
            "                            OLS Regression Results                            \n",
            "==============================================================================\n",
            "Dep. Variable:                      y   R-squared:                       0.227\n",
            "Model:                            OLS   Adj. R-squared:                  0.219\n",
            "Method:                 Least Squares   F-statistic:                     28.70\n",
            "Date:                Thu, 29 Jul 2021   Prob (F-statistic):           5.60e-07\n",
            "Time:                        17:03:57   Log-Likelihood:                -157.14\n",
            "No. Observations:                 100   AIC:                             318.3\n",
            "Df Residuals:                      98   BIC:                             323.5\n",
            "Df Model:                           1                                         \n",
            "Covariance Type:            nonrobust                                         \n",
            "==============================================================================\n",
            "                 coef    std err          t      P>|t|      [0.025      0.975]\n",
            "------------------------------------------------------------------------------\n",
            "const          2.0251      0.208      9.730      0.000       1.612       2.438\n",
            "x2             3.6806      0.687      5.357      0.000       2.317       5.044\n",
            "==============================================================================\n",
            "Omnibus:                        1.212   Durbin-Watson:                   2.163\n",
            "Prob(Omnibus):                  0.545   Jarque-Bera (JB):                1.298\n",
            "Skew:                          -0.228   Prob(JB):                        0.523\n",
            "Kurtosis:                       2.678   Cond. No.                         6.21\n",
            "==============================================================================\n",
            "\n",
            "Warnings:\n",
            "[1] Standard Errors assume that the covariance matrix of the errors is correctly specified.\n"
          ],
          "name": "stdout"
        }
      ]
    },
    {
      "cell_type": "markdown",
      "metadata": {
        "id": "pZz-hcMaT6sB"
      },
      "source": [
        "#Question (e): Comment\n",
        "*   Y intercept =  2.025108521217553  which is obtained when X1 & X2 in are taken 0\n",
        "\n",
        "*   B1 =  3.6805617498249426  which means when X1 is increased by one unit, then predicted y increases by b1 ( 3.6805617498249426 ) units\n",
        "*   For Ho:B1=0 - Since pvalue = 0 which is less than 0.05 LOS, we reject null hypothesis which implie B1 is not equal to 0, so we conclude that b1 is statistically significant at significance level 0.05\n"
      ]
    },
    {
      "cell_type": "markdown",
      "metadata": {
        "id": "WVqZB-avOw46"
      },
      "source": [
        "#Question (f):Do the results obtained in (c)–(e) contradict each other? Explain your answer\n",
        "\n",
        "\n",
        "#Answer:\n",
        " Yes, results in c and e contradict each other because\n",
        "\n",
        "1.   In Question (c) model is Y = bo + b1X1 + b2X2, we know X1 and X2 are highly correlated, which implies presence of multicollinearity in fitted regression model, so while checking significance of model we come to conclusion that presence of one variable affects the other variable \n",
        "2.   when we consider models Y = bo + b1X1 & Y = bo + b2X2, X1 and X2 remain unaffected by presence of each other and are thus statistically significant in their respective model\n",
        "\n"
      ]
    },
    {
      "cell_type": "markdown",
      "metadata": {
        "id": "QYcYrxqEhS0N"
      },
      "source": [
        "#Question (g)\n",
        "Measure the accuracy of your model fitted above using X1 and X2\n",
        "\n",
        "\n",
        "\n"
      ]
    },
    {
      "cell_type": "code",
      "metadata": {
        "colab": {
          "base_uri": "https://localhost:8080/"
        },
        "id": "1OtT3dM9hXcW",
        "outputId": "79629dd1-7c7b-4741-ee2f-cade659ff8e9"
      },
      "source": [
        "#For 1st model: Y = bo + b1x1 + b2x2\n",
        "print(\"For first model: Y = bo + b1x1 + b2x2, accuracy = \",model.rsquared_adj)\n",
        "print(\"For second model: Y = bo + b1x1, accuracy = \",model_x1.rsquared_adj)\n",
        "print(\"For third model: Y = bo + b2x2, accuracy = \",model_x2.rsquared_adj)"
      ],
      "execution_count": 98,
      "outputs": [
        {
          "output_type": "stream",
          "text": [
            "For first model: Y = bo + b1x1 + b2x2, accuracy =  0.25445289435991647\n",
            "For second model: Y = bo + b1x1, accuracy =  0.254251567950907\n",
            "For third model: Y = bo + b2x2, accuracy =  0.21861185413428197\n"
          ],
          "name": "stdout"
        }
      ]
    },
    {
      "cell_type": "code",
      "metadata": {
        "colab": {
          "base_uri": "https://localhost:8080/",
          "height": 429
        },
        "id": "njnArQnfh_NH",
        "outputId": "790022e8-4e15-4c30-dcb1-8384d6d1fb26"
      },
      "source": [
        "#Obtaining Residuals\n",
        "resid = model.resid\n",
        "\n",
        "#Checking normality of residuals using Shapiro-Wilk test\n",
        "Normality= shapiro(resid)\n",
        "Statistic,Pvalue = shapiro(resid)\n",
        "print(Pvalue)\n",
        "print(Normality)\n",
        "#Mean & Variance Of residual\n",
        "print(\"Mean =\",resid.mean(),\"Variance =\",resid.var() )\n",
        "\n",
        "#Checking if residuals are independent of each other\n",
        "y_predicted = model.predict(X_all)\n",
        "plt.scatter(y_predicted,resid)\n",
        "plt.plot(np.unique(y_predicted), np.poly1d(np.polyfit(y_predicted, resid, 1))(np.unique(y_predicted)), color='red')\n",
        "plt.xlabel(\"Y_Predicted\")\n",
        "plt.ylabel(\"Residuals\")\n",
        "plt.title(\"Residual Vs Predicted\")\n",
        "\n",
        "plt.show()"
      ],
      "execution_count": 99,
      "outputs": [
        {
          "output_type": "stream",
          "text": [
            "0.5321196913719177\n",
            "(0.9883203506469727, 0.5321196913719177)\n",
            "Mean = -1.3988810110276972e-15 Variance = 1.2939241741052125\n"
          ],
          "name": "stdout"
        },
        {
          "output_type": "display_data",
          "data": {
            "image/png": "[encoded data removed]",
            "text/plain": [
              "<Figure size 576x396 with 1 Axes>"
            ]
          },
          "metadata": {
            "tags": []
          }
        }
      ]
    },
    {
      "cell_type": "markdown",
      "metadata": {
        "id": "VDkrEmnwmikR"
      },
      "source": [
        "#Question g1: Comment\n",
        "Property 1: We can observe that p-value = 0.53212 which is greater that 0.05 (LOS), therefore we donot reject null hypothesis and conclude that residual follow normal distribution\n",
        "\n",
        "\n",
        "Property 2: residual follows normal with mean which is approx = 0 and variance is 1.29392\n",
        "\n",
        "Property 3: Checking if errors are independent in nature using y predicted vs residual plot \n",
        "we can observe that residuals are well scattered which proves that there is no presence of autocorrelation"
      ]
    },
    {
      "cell_type": "markdown",
      "metadata": {
        "id": "R1fdiWGOssyU"
      },
      "source": [
        "#Anscombe's Dataset"
      ]
    },
    {
      "cell_type": "markdown",
      "metadata": {
        "id": "FRlWjJf1LO0V"
      },
      "source": [
        "#Question 2a\n",
        "Explore the data and obtain summary statistics for each set and\n",
        "correlations between (xi, yi) i=1,2,3,4. Comment on the results\n",
        "\n",
        "\n"
      ]
    },
    {
      "cell_type": "code",
      "metadata": {
        "id": "88WuXj4eN8gI"
      },
      "source": [
        "anscombe = pd.read_csv(\"/content/Anscombe.csv - Anscombe.csv.csv\")"
      ],
      "execution_count": 102,
      "outputs": []
    },
    {
      "cell_type": "markdown",
      "metadata": {
        "id": "t91xOpmG2wUW"
      },
      "source": [
        "#Exploratory Data Anlaysis & Summary Statistics"
      ]
    },
    {
      "cell_type": "code",
      "metadata": {
        "colab": {
          "base_uri": "https://localhost:8080/",
          "height": 509
        },
        "id": "pnMQlLIA2sSC",
        "outputId": "08b378a2-3555-433a-bd77-3a8f43a6033f"
      },
      "source": [
        "print(\"---Dimension Of Anscombe's Dataset---\\n \",anscombe.shape)\n",
        "print(\"---Checking Null Values----\\n\",anscombe.isnull().sum())\n",
        "anscombe.describe()"
      ],
      "execution_count": 103,
      "outputs": [
        {
          "output_type": "stream",
          "text": [
            "---Dimension Of Anscombe's Dataset---\n",
            "  (11, 8)\n",
            "---Checking Null Values----\n",
            " x1    0\n",
            "y1    0\n",
            "x2    0\n",
            "y2    0\n",
            "x3    0\n",
            "y3    0\n",
            "x4    0\n",
            "y4    0\n",
            "dtype: int64\n"
          ],
          "name": "stdout"
        },
        {
          "output_type": "execute_result",
          "data": {
            "text/html": [
              "<div>\n",
              "<style scoped>\n",
              "    .dataframe tbody tr th:only-of-type {\n",
              "        vertical-align: middle;\n",
              "    }\n",
              "\n",
              "    .dataframe tbody tr th {\n",
              "        vertical-align: top;\n",
              "    }\n",
              "\n",
              "    .dataframe thead th {\n",
              "        text-align: right;\n",
              "    }\n",
              "</style>\n",
              "<table border=\"1\" class=\"dataframe\">\n",
              "  <thead>\n",
              "    <tr style=\"text-align: right;\">\n",
              "      <th></th>\n",
              "      <th>x1</th>\n",
              "      <th>y1</th>\n",
              "      <th>x2</th>\n",
              "      <th>y2</th>\n",
              "      <th>x3</th>\n",
              "      <th>y3</th>\n",
              "      <th>x4</th>\n",
              "      <th>y4</th>\n",
              "    </tr>\n",
              "  </thead>\n",
              "  <tbody>\n",
              "    <tr>\n",
              "      <th>count</th>\n",
              "      <td>11.000000</td>\n",
              "      <td>11.000000</td>\n",
              "      <td>11.000000</td>\n",
              "      <td>11.000000</td>\n",
              "      <td>11.000000</td>\n",
              "      <td>11.000000</td>\n",
              "      <td>11.000000</td>\n",
              "      <td>11.000000</td>\n",
              "    </tr>\n",
              "    <tr>\n",
              "      <th>mean</th>\n",
              "      <td>9.000000</td>\n",
              "      <td>7.500909</td>\n",
              "      <td>9.000000</td>\n",
              "      <td>7.500909</td>\n",
              "      <td>9.000000</td>\n",
              "      <td>7.500000</td>\n",
              "      <td>9.000000</td>\n",
              "      <td>7.500909</td>\n",
              "    </tr>\n",
              "    <tr>\n",
              "      <th>std</th>\n",
              "      <td>3.316625</td>\n",
              "      <td>2.031568</td>\n",
              "      <td>3.316625</td>\n",
              "      <td>2.031657</td>\n",
              "      <td>3.316625</td>\n",
              "      <td>2.030424</td>\n",
              "      <td>3.316625</td>\n",
              "      <td>2.030579</td>\n",
              "    </tr>\n",
              "    <tr>\n",
              "      <th>min</th>\n",
              "      <td>4.000000</td>\n",
              "      <td>4.260000</td>\n",
              "      <td>4.000000</td>\n",
              "      <td>3.100000</td>\n",
              "      <td>4.000000</td>\n",
              "      <td>5.390000</td>\n",
              "      <td>8.000000</td>\n",
              "      <td>5.250000</td>\n",
              "    </tr>\n",
              "    <tr>\n",
              "      <th>25%</th>\n",
              "      <td>6.500000</td>\n",
              "      <td>6.315000</td>\n",
              "      <td>6.500000</td>\n",
              "      <td>6.695000</td>\n",
              "      <td>6.500000</td>\n",
              "      <td>6.250000</td>\n",
              "      <td>8.000000</td>\n",
              "      <td>6.170000</td>\n",
              "    </tr>\n",
              "    <tr>\n",
              "      <th>50%</th>\n",
              "      <td>9.000000</td>\n",
              "      <td>7.580000</td>\n",
              "      <td>9.000000</td>\n",
              "      <td>8.140000</td>\n",
              "      <td>9.000000</td>\n",
              "      <td>7.110000</td>\n",
              "      <td>8.000000</td>\n",
              "      <td>7.040000</td>\n",
              "    </tr>\n",
              "    <tr>\n",
              "      <th>75%</th>\n",
              "      <td>11.500000</td>\n",
              "      <td>8.570000</td>\n",
              "      <td>11.500000</td>\n",
              "      <td>8.950000</td>\n",
              "      <td>11.500000</td>\n",
              "      <td>7.980000</td>\n",
              "      <td>8.000000</td>\n",
              "      <td>8.190000</td>\n",
              "    </tr>\n",
              "    <tr>\n",
              "      <th>max</th>\n",
              "      <td>14.000000</td>\n",
              "      <td>10.840000</td>\n",
              "      <td>14.000000</td>\n",
              "      <td>9.260000</td>\n",
              "      <td>14.000000</td>\n",
              "      <td>12.740000</td>\n",
              "      <td>19.000000</td>\n",
              "      <td>12.500000</td>\n",
              "    </tr>\n",
              "  </tbody>\n",
              "</table>\n",
              "</div>"
            ],
            "text/plain": [
              "              x1         y1         x2  ...         y3         x4         y4\n",
              "count  11.000000  11.000000  11.000000  ...  11.000000  11.000000  11.000000\n",
              "mean    9.000000   7.500909   9.000000  ...   7.500000   9.000000   7.500909\n",
              "std     3.316625   2.031568   3.316625  ...   2.030424   3.316625   2.030579\n",
              "min     4.000000   4.260000   4.000000  ...   5.390000   8.000000   5.250000\n",
              "25%     6.500000   6.315000   6.500000  ...   6.250000   8.000000   6.170000\n",
              "50%     9.000000   7.580000   9.000000  ...   7.110000   8.000000   7.040000\n",
              "75%    11.500000   8.570000  11.500000  ...   7.980000   8.000000   8.190000\n",
              "max    14.000000  10.840000  14.000000  ...  12.740000  19.000000  12.500000\n",
              "\n",
              "[8 rows x 8 columns]"
            ]
          },
          "metadata": {
            "tags": []
          },
          "execution_count": 103
        }
      ]
    },
    {
      "cell_type": "code",
      "metadata": {
        "id": "ftzapVcVs4NH"
      },
      "source": [
        "#Defining variables\n",
        "x1,x2,x3,x4,y1,y2,y3,y4 = anscombe['x1'],anscombe['x2'],anscombe['x3'],anscombe['x4'],anscombe['y1'],anscombe['y2'],anscombe['y3'],anscombe['y4']"
      ],
      "execution_count": 106,
      "outputs": []
    },
    {
      "cell_type": "code",
      "metadata": {
        "colab": {
          "base_uri": "https://localhost:8080/",
          "height": 451
        },
        "id": "51JsEi7xToZd",
        "outputId": "02baa030-1507-44e8-8451-45b421756aca"
      },
      "source": [
        "#Correlation \n",
        "for num in range(1,5):\n",
        "  a,b = pearsonr(globals()[\"x{}\".format(num)],globals()[\"y{}\".format(num)])\n",
        "  print(\"Correlation between x\" + str(num),\"and y\" + str(num),\"=\", a )\n",
        "\n",
        "ax = sns.heatmap(data.corr(),annot=True)\n",
        "ax.set_title(\"Correlation (Heat Map)\")"
      ],
      "execution_count": 108,
      "outputs": [
        {
          "output_type": "stream",
          "text": [
            "Correlation between x1 and y1 = 0.81642051634484\n",
            "Correlation between x2 and y2 = 0.8162365060002428\n",
            "Correlation between x3 and y3 = 0.8162867394895982\n",
            "Correlation between x4 and y4 = 0.816521436888503\n"
          ],
          "name": "stdout"
        },
        {
          "output_type": "execute_result",
          "data": {
            "text/plain": [
              "Text(0.5, 1.0, 'Correlation (Heat Map)')"
            ]
          },
          "metadata": {
            "tags": []
          },
          "execution_count": 108
        },
        {
          "output_type": "display_data",
          "data": {
            "image/png": "[encoded data removed]",
            "text/plain": [
              "<Figure size 576x396 with 2 Axes>"
            ]
          },
          "metadata": {
            "tags": []
          }
        }
      ]
    },
    {
      "cell_type": "markdown",
      "metadata": {
        "id": "8B85m_Su43wm"
      },
      "source": [
        "#Comment\n",
        "We can observe that all sets of anscombe dataset have similar correlation, i.e 0.82"
      ]
    },
    {
      "cell_type": "markdown",
      "metadata": {
        "id": "90L1JdyAG4B2"
      },
      "source": [
        "#Question 2b\n",
        "\n",
        "Perform linear regression of Yi on Xi for each i=1,2,3,4 and comment on the\n",
        "results"
      ]
    },
    {
      "cell_type": "code",
      "metadata": {
        "colab": {
          "base_uri": "https://localhost:8080/"
        },
        "id": "gC0yzutw5-AG",
        "outputId": "9626bddb-bfce-4ff1-9392-1ea23b9853e7"
      },
      "source": [
        "for num in range(1, 5):\n",
        "  print(\"Linear Regression for y\" + str(num),\"and x\" + str(num))\n",
        "  print(\"Model\"+str(num)+\":\" ,\"y\" + str(num), \"= B0 + B\"+str(num) + \"x\"+str(num) )\n",
        "  globals()[\"x{}\".format(num)]=sm.add_constant(globals()[\"x{}\".format(num)])\n",
        "  reg=sm.OLS(globals()[\"y{}\".format(num)],globals()[\"x{}\".format(num)]).fit()\n",
        "  print(reg.summary())\n",
        "  print('\\n\\n\\n\\n')"
      ],
      "execution_count": 90,
      "outputs": [
        {
          "output_type": "stream",
          "text": [
            "Linear Regression for y1 and x1\n",
            "Model1: y1 = B0 + B1x1\n",
            "                            OLS Regression Results                            \n",
            "==============================================================================\n",
            "Dep. Variable:                     y1   R-squared:                       0.667\n",
            "Model:                            OLS   Adj. R-squared:                  0.629\n",
            "Method:                 Least Squares   F-statistic:                     17.99\n",
            "Date:                Thu, 29 Jul 2021   Prob (F-statistic):            0.00217\n",
            "Time:                        16:29:14   Log-Likelihood:                -16.841\n",
            "No. Observations:                  11   AIC:                             37.68\n",
            "Df Residuals:                       9   BIC:                             38.48\n",
            "Df Model:                           1                                         \n",
            "Covariance Type:            nonrobust                                         \n",
            "==============================================================================\n",
            "                 coef    std err          t      P>|t|      [0.025      0.975]\n",
            "------------------------------------------------------------------------------\n",
            "const          3.0001      1.125      2.667      0.026       0.456       5.544\n",
            "x1             0.5001      0.118      4.241      0.002       0.233       0.767\n",
            "==============================================================================\n",
            "Omnibus:                        0.082   Durbin-Watson:                   3.212\n",
            "Prob(Omnibus):                  0.960   Jarque-Bera (JB):                0.289\n",
            "Skew:                          -0.122   Prob(JB):                        0.865\n",
            "Kurtosis:                       2.244   Cond. No.                         29.1\n",
            "==============================================================================\n",
            "\n",
            "Warnings:\n",
            "[1] Standard Errors assume that the covariance matrix of the errors is correctly specified.\n",
            "\n",
            "\n",
            "\n",
            "\n",
            "\n",
            "Linear Regression for y2 and x2\n",
            "Model2: y2 = B0 + B2x2\n",
            "                            OLS Regression Results                            \n",
            "==============================================================================\n",
            "Dep. Variable:                     y2   R-squared:                       0.666\n",
            "Model:                            OLS   Adj. R-squared:                  0.629\n",
            "Method:                 Least Squares   F-statistic:                     17.97\n",
            "Date:                Thu, 29 Jul 2021   Prob (F-statistic):            0.00218\n",
            "Time:                        16:29:14   Log-Likelihood:                -16.846\n",
            "No. Observations:                  11   AIC:                             37.69\n",
            "Df Residuals:                       9   BIC:                             38.49\n",
            "Df Model:                           1                                         \n",
            "Covariance Type:            nonrobust                                         \n",
            "==============================================================================\n",
            "                 coef    std err          t      P>|t|      [0.025      0.975]\n",
            "------------------------------------------------------------------------------\n",
            "const          3.0009      1.125      2.667      0.026       0.455       5.547\n",
            "x2             0.5000      0.118      4.239      0.002       0.233       0.767\n",
            "==============================================================================\n",
            "Omnibus:                        1.594   Durbin-Watson:                   2.188\n",
            "Prob(Omnibus):                  0.451   Jarque-Bera (JB):                1.108\n",
            "Skew:                          -0.567   Prob(JB):                        0.575\n",
            "Kurtosis:                       1.936   Cond. No.                         29.1\n",
            "==============================================================================\n",
            "\n",
            "Warnings:\n",
            "[1] Standard Errors assume that the covariance matrix of the errors is correctly specified.\n",
            "\n",
            "\n",
            "\n",
            "\n",
            "\n",
            "Linear Regression for y3 and x3\n",
            "Model3: y3 = B0 + B3x3\n",
            "                            OLS Regression Results                            \n",
            "==============================================================================\n",
            "Dep. Variable:                     y3   R-squared:                       0.666\n",
            "Model:                            OLS   Adj. R-squared:                  0.629\n",
            "Method:                 Least Squares   F-statistic:                     17.97\n",
            "Date:                Thu, 29 Jul 2021   Prob (F-statistic):            0.00218\n",
            "Time:                        16:29:14   Log-Likelihood:                -16.838\n",
            "No. Observations:                  11   AIC:                             37.68\n",
            "Df Residuals:                       9   BIC:                             38.47\n",
            "Df Model:                           1                                         \n",
            "Covariance Type:            nonrobust                                         \n",
            "==============================================================================\n",
            "                 coef    std err          t      P>|t|      [0.025      0.975]\n",
            "------------------------------------------------------------------------------\n",
            "const          3.0025      1.124      2.670      0.026       0.459       5.546\n",
            "x3             0.4997      0.118      4.239      0.002       0.233       0.766\n",
            "==============================================================================\n",
            "Omnibus:                       19.540   Durbin-Watson:                   2.144\n",
            "Prob(Omnibus):                  0.000   Jarque-Bera (JB):               13.478\n",
            "Skew:                           2.041   Prob(JB):                      0.00118\n",
            "Kurtosis:                       6.571   Cond. No.                         29.1\n",
            "==============================================================================\n",
            "\n",
            "Warnings:\n",
            "[1] Standard Errors assume that the covariance matrix of the errors is correctly specified.\n",
            "\n",
            "\n",
            "\n",
            "\n",
            "\n",
            "Linear Regression for y4 and x4\n",
            "Model4: y4 = B0 + B4x4\n",
            "                            OLS Regression Results                            \n",
            "==============================================================================\n",
            "Dep. Variable:                     y4   R-squared:                       0.667\n",
            "Model:                            OLS   Adj. R-squared:                  0.630\n",
            "Method:                 Least Squares   F-statistic:                     18.00\n",
            "Date:                Thu, 29 Jul 2021   Prob (F-statistic):            0.00216\n",
            "Time:                        16:29:14   Log-Likelihood:                -16.833\n",
            "No. Observations:                  11   AIC:                             37.67\n",
            "Df Residuals:                       9   BIC:                             38.46\n",
            "Df Model:                           1                                         \n",
            "Covariance Type:            nonrobust                                         \n",
            "==============================================================================\n",
            "                 coef    std err          t      P>|t|      [0.025      0.975]\n",
            "------------------------------------------------------------------------------\n",
            "const          3.0017      1.124      2.671      0.026       0.459       5.544\n",
            "x4             0.4999      0.118      4.243      0.002       0.233       0.766\n",
            "==============================================================================\n",
            "Omnibus:                        0.555   Durbin-Watson:                   1.662\n",
            "Prob(Omnibus):                  0.758   Jarque-Bera (JB):                0.524\n",
            "Skew:                           0.010   Prob(JB):                        0.769\n",
            "Kurtosis:                       1.931   Cond. No.                         29.1\n",
            "==============================================================================\n",
            "\n",
            "Warnings:\n",
            "[1] Standard Errors assume that the covariance matrix of the errors is correctly specified.\n",
            "\n",
            "\n",
            "\n",
            "\n",
            "\n"
          ],
          "name": "stdout"
        },
        {
          "output_type": "stream",
          "text": [
            "/usr/local/lib/python3.7/dist-packages/scipy/stats/stats.py:1535: UserWarning: kurtosistest only valid for n>=20 ... continuing anyway, n=11\n",
            "  \"anyway, n=%i\" % int(n))\n",
            "/usr/local/lib/python3.7/dist-packages/scipy/stats/stats.py:1535: UserWarning: kurtosistest only valid for n>=20 ... continuing anyway, n=11\n",
            "  \"anyway, n=%i\" % int(n))\n",
            "/usr/local/lib/python3.7/dist-packages/scipy/stats/stats.py:1535: UserWarning: kurtosistest only valid for n>=20 ... continuing anyway, n=11\n",
            "  \"anyway, n=%i\" % int(n))\n",
            "/usr/local/lib/python3.7/dist-packages/scipy/stats/stats.py:1535: UserWarning: kurtosistest only valid for n>=20 ... continuing anyway, n=11\n",
            "  \"anyway, n=%i\" % int(n))\n"
          ],
          "name": "stderr"
        }
      ]
    },
    {
      "cell_type": "markdown",
      "metadata": {
        "id": "DqEKt3BT97Yv"
      },
      "source": [
        "#Comment\n",
        " \n",
        "   \n",
        "*   We can observe that **r-squared = 0.66** for all four linear models generated from anscombe's dataset, this implies x1,x2,x3,x4 explain 66% of variation in y1,y2,y3,y4 respectively.\n",
        "\n",
        "*   We can also observe that p-value < 0.05 (LOS) for all model's significance test, so we can conclude by saying that B1,B2,B3,B4 are all statistically significant at 0.05 level of significance in their respective models.\n",
        "\n",
        "\n",
        "\n",
        "\n",
        "\n",
        "\n",
        "\n"
      ]
    }
  ]
}
